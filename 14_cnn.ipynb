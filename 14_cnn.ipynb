{
  "nbformat": 4,
  "nbformat_minor": 0,
  "metadata": {
    "colab": {
      "provenance": [],
      "authorship_tag": "ABX9TyNcOU9nx//D0CFv4v4OCWOJ",
      "include_colab_link": true
    },
    "kernelspec": {
      "name": "python3",
      "display_name": "Python 3"
    },
    "language_info": {
      "name": "python"
    }
  },
  "cells": [
    {
      "cell_type": "markdown",
      "metadata": {
        "id": "view-in-github",
        "colab_type": "text"
      },
      "source": [
        "<a href=\"https://colab.research.google.com/github/Anandkajith/Data-Science-lab/blob/main/14_cnn.ipynb\" target=\"_parent\"><img src=\"https://colab.research.google.com/assets/colab-badge.svg\" alt=\"Open In Colab\"/></a>"
      ]
    },
    {
      "cell_type": "code",
      "execution_count": null,
      "metadata": {
        "id": "498DxcnrNw7K"
      },
      "outputs": [],
      "source": [
        "#import necessary libraries\n",
        "import tensorflow as tf\n",
        "from tensorflow import keras\n",
        "from tensorflow.keras import layers"
      ]
    },
    {
      "cell_type": "code",
      "source": [
        "# Load the MNIST dataset\n",
        "mnist = keras.datasets.mnist\n",
        "(train_images, train_labels), (test_images, test_labels) = mnist.load_data()"
      ],
      "metadata": {
        "colab": {
          "base_uri": "https://localhost:8080/"
        },
        "id": "OO_f6fS9OxJ6",
        "outputId": "1cc6cb89-171d-4156-ff5c-baf4e0091359"
      },
      "execution_count": null,
      "outputs": [
        {
          "output_type": "stream",
          "name": "stdout",
          "text": [
            "Downloading data from https://storage.googleapis.com/tensorflow/tf-keras-datasets/mnist.npz\n",
            "11490434/11490434 [==============================] - 0s 0us/step\n"
          ]
        }
      ]
    },
    {
      "cell_type": "code",
      "source": [
        "# Preprocess the data\n",
        "train_images, test_images = train_images / 255.0, test_images / 255.0"
      ],
      "metadata": {
        "id": "l8qzBm4rPAqW"
      },
      "execution_count": null,
      "outputs": []
    },
    {
      "cell_type": "code",
      "source": [
        "# Build the neural network\n",
        "model = keras.Sequential([\n",
        "    layers.Flatten(input_shape=(28, 28)),  # Flatten the 28x28 image into a 1D array\n",
        "    layers.Dense(128, activation='relu'),  # Fully connected layer with ReLU activation\n",
        "    layers.Dropout(0.2),  # Dropout layer to reduce overfitting\n",
        "    layers.Dense(10)  # Output layer with 10 units for 10 classes (0-9)\n",
        "])"
      ],
      "metadata": {
        "id": "I10QYy5fPFxm"
      },
      "execution_count": null,
      "outputs": []
    },
    {
      "cell_type": "code",
      "source": [
        "# Compile the model\n",
        "model.compile(optimizer='adam',\n",
        "              loss=tf.keras.losses.SparseCategoricalCrossentropy(from_logits=True),\n",
        "              metrics=['accuracy'])"
      ],
      "metadata": {
        "id": "FYS7-PosP3zN"
      },
      "execution_count": null,
      "outputs": []
    },
    {
      "cell_type": "markdown",
      "source": [
        "Model training"
      ],
      "metadata": {
        "id": "C1qW8NXnP8HR"
      }
    },
    {
      "cell_type": "code",
      "source": [
        "# Train the model\n",
        "model.fit(train_images, train_labels, epochs=10, validation_split=0.2)"
      ],
      "metadata": {
        "colab": {
          "base_uri": "https://localhost:8080/"
        },
        "id": "2KMfVDwzP6LZ",
        "outputId": "87ba76cc-28f4-4ff6-9870-a2a0570ddf4f"
      },
      "execution_count": null,
      "outputs": [
        {
          "output_type": "stream",
          "name": "stdout",
          "text": [
            "Epoch 1/10\n",
            "1500/1500 [==============================] - 10s 6ms/step - loss: 0.3198 - accuracy: 0.9084 - val_loss: 0.1529 - val_accuracy: 0.9567\n",
            "Epoch 2/10\n",
            "1500/1500 [==============================] - 8s 5ms/step - loss: 0.1578 - accuracy: 0.9529 - val_loss: 0.1134 - val_accuracy: 0.9651\n",
            "Epoch 3/10\n",
            "1500/1500 [==============================] - 9s 6ms/step - loss: 0.1171 - accuracy: 0.9646 - val_loss: 0.0990 - val_accuracy: 0.9701\n",
            "Epoch 4/10\n",
            "1500/1500 [==============================] - 7s 5ms/step - loss: 0.0955 - accuracy: 0.9710 - val_loss: 0.0932 - val_accuracy: 0.9722\n",
            "Epoch 5/10\n",
            "1500/1500 [==============================] - 9s 6ms/step - loss: 0.0807 - accuracy: 0.9752 - val_loss: 0.0862 - val_accuracy: 0.9753\n",
            "Epoch 6/10\n",
            "1500/1500 [==============================] - 7s 5ms/step - loss: 0.0692 - accuracy: 0.9776 - val_loss: 0.0825 - val_accuracy: 0.9766\n",
            "Epoch 7/10\n",
            "1500/1500 [==============================] - 11s 7ms/step - loss: 0.0617 - accuracy: 0.9809 - val_loss: 0.0829 - val_accuracy: 0.9753\n",
            "Epoch 8/10\n",
            "1500/1500 [==============================] - 11s 7ms/step - loss: 0.0535 - accuracy: 0.9827 - val_loss: 0.0813 - val_accuracy: 0.9772\n",
            "Epoch 9/10\n",
            "1500/1500 [==============================] - 7s 5ms/step - loss: 0.0482 - accuracy: 0.9840 - val_loss: 0.0803 - val_accuracy: 0.9783\n",
            "Epoch 10/10\n",
            "1500/1500 [==============================] - 9s 6ms/step - loss: 0.0452 - accuracy: 0.9845 - val_loss: 0.0809 - val_accuracy: 0.9769\n"
          ]
        },
        {
          "output_type": "execute_result",
          "data": {
            "text/plain": [
              "<keras.src.callbacks.History at 0x7b96e726a7d0>"
            ]
          },
          "metadata": {},
          "execution_count": 6
        }
      ]
    },
    {
      "cell_type": "markdown",
      "source": [
        "Evaluation"
      ],
      "metadata": {
        "id": "SBDp1E90QPKC"
      }
    },
    {
      "cell_type": "code",
      "source": [
        "# Evaluate the model on the test data\n",
        "test_loss, test_accuracy = model.evaluate(test_images, test_labels, verbose=2)\n",
        "print(\"\\nTest accuracy:\", test_accuracy)"
      ],
      "metadata": {
        "colab": {
          "base_uri": "https://localhost:8080/"
        },
        "id": "kVCCFG8RQSay",
        "outputId": "af1fd668-cbfe-46ab-e1f3-a1566ef9d887"
      },
      "execution_count": null,
      "outputs": [
        {
          "output_type": "stream",
          "name": "stdout",
          "text": [
            "313/313 - 1s - loss: 0.0788 - accuracy: 0.9779 - 659ms/epoch - 2ms/step\n",
            "\n",
            "Test accuracy: 0.9779000282287598\n"
          ]
        }
      ]
    }
  ]
}